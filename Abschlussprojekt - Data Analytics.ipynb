{
 "cells": [
  {
   "cell_type": "markdown",
   "metadata": {},
   "source": [
    "# Abschlussprojekt - Data Analytics\n",
    "\n",
    "Das Abschlussprojekt besteht aus zwei Teilen:\n",
    "\n",
    "                                                1. Teil - Datenanalyse\n",
    "                                                2. Teil - Dashboard\n",
    "                                                \n",
    "**Vorweg: Hinweise und Organisation**\n",
    "\n",
    "*Grobe Zusammenfassung der am Freitag besprochenen Anforderungen:*\n",
    "\n",
    "                - vollständige Datenaufbereitung\n",
    "                - Dokumentation der Arbeitsschritte (in englisch oder deutsch)\n",
    "                - nachvollziehbare und aussagekräftige Erläuterungen über Vorgehensweise/Entscheidungen\n",
    "                - für die Bewertung: 3 verschiedenartige Plots (Plotfunktionen) benennen \n",
    "                  (Plot 1: univariate Analyse, Plot 2: bivariate Analyse, Plot 3: multivariate Analyse)\n",
    "                - Customizing der Plots\n",
    "                - Analyse der Plots\n",
    "                - Coding\n",
    "\n",
    "Für die **Visualisierung** haben wir die Bibliothek Plotly express bzw Plotly kennen gelernt.\n",
    "\n",
    "Für den Fall, dass du in der EDA die Bibliothek Matplotlib verwenden möchtest, gelten folgende Anforderungen:\n",
    "\n",
    "              - objektorientierte Stil verwenden https://matplotlib.org/stable/users/explain/api_interfaces.html\n",
    "              - benötigte high-level Bibliotheken sind selbstständig zu recherchieren, zu installieren und einzuarbeiten\n",
    "              - für die EDA ist ein- und dieselbe Bibliothek zu verwenden \n",
    "\n",
    "Treff ist **Donnerstag um 14:30 Uhr** im Hauptraum. Da werden wir die Unterlagen in dokumentensichere Formate umwandeln. Das machen wir zusammen. Danach habt ihr bis 15:30 Uhr zeit, eure zu bewertenden Unterlagen in den Projektabgabeordner hochzuladen.\n",
    "\n",
    "Am Freitag erfolgt die Vorstellung der 3 Plots innerhalb des Zeitrahmens von 5min - (+-1min) ist dabei ok. Bewertet wird die Einhaltung des Zeitrahmes - dass das Anliegen innerhalb eines vorgegebenen Zeitrahmens vorgetragen wird. \n",
    "                                                \n",
    "## 1. Teil - Datenanalyse\n",
    "\n",
    "Du arbeitest als Data Scientist bei der P-2-P-Plattform https://www.kiva.org/, die vor einem Jahr gegründet wurde. Nun wollt ihr euer Geschäft erweitern. Euer Team hat sich aufgeteilt und jeder Analyst hat einen Teilbereich der Daten. Deine Aufgabe ist es in einer **explorativen Datenanalyse** Insights für eure Plattform herauszufinden.\n",
    " \n",
    "\n",
    "### CRISP DM: Business Understanding\n",
    "\n",
    "Euer Geschäftsmodell ist das Betreiben einer Plattform (crowd-investing) bei der sich Personen die eine Geschäftsidee haben, aber nicht das benötigte Geld, anmelden und für ihr Projekt innerhalb einer vorgegebenen Zeit Geld sammeln können. \n",
    "\n",
    "Auf der anderen Seite habt ihr Geldgeber, die gern ihr Geld in Projekte anlegen möchten und nach Investitionen suchen. \n",
    "\n",
    "Als Vermittler bringt eure Plattform also Geldnehmer und Geldgeber zusammen. \n",
    "\n",
    "Deine Datenbasis ist die Historie eurer Plattform. \n",
    "\n",
    "**Getroffene Annahmen zu dem Geschäftsmodell**\n",
    "\n",
    "Alle Projekte sind abgeschlossene Projekte, d.h. die Zeit, um für sein Projekt Geld zu sammeln ist abgelaufen. \n",
    "Euer Geschäftsmodell sieht es vor, dass die gesammelten Gelder ausgezahlt werden, auch wenn der Zielbetrag nicht erreicht wurde.\n",
    "\n",
    "Ihr verdient euer Geld mit einer Provision für jedes Projekt was auf eurer Plattform landet. \n",
    "\n",
    "Der Geldgeber erhält einen Zins für die Geldleihe.\n",
    "\n",
    "### CRISP DM: Data Understanding\n",
    "\n",
    "\n",
    "    - funded_amount ... mit Ablauf der \"Crowding\"zeit erhaltener Betrag/ ausgezahlter Betrag in USD\n",
    "    - loan_amount ... Zielbetrag (Betrag dem man für das Projekt erreichen wollte) in USD\n",
    "    - activity ... Unterkategory zu dem das Ziel des Crowdprojektes thematisch gehört\n",
    "    - sector ... Oberkategory in den das Crowdprojektes Thema fällt\n",
    "    - use ... Kurzbeschreibung wofür das Geld verwendet werden soll\n",
    "    - country_code ... Ländercode nach ISO Norm\n",
    "    - country ... Ländername nach ISO Norm\n",
    "    - region ... Region\n",
    "    - currency ... Währung in den der funded_amount dann ausgezahlt wurde\n",
    "    - term in months ... Dauer über die der Kredit ausgezahlt werden soll\n",
    "    - lender_count ...Darlehensgeber (also wieviele Personen Geld für das Projekt gegeben haben)\n",
    "    - borrower_genders ... Geschlecht und Anzahl der Darlehensnehmer, also diejenigen die das Crowdprojekt initiiert haben       \n",
    "    - repayment interval ... vertraglich vereinbarte Rückzahlungsmodalitäten/-rhythmus\n"
   ]
  },
  {
   "cell_type": "markdown",
   "metadata": {},
   "source": [
    "## 2. Teil - Dashboard\n",
    "\n",
    "Basierend auf den vorangegangenen Daten soll ein Dashboard erstellt werden.\n",
    "\n",
    "Das Dashboard soll:\n",
    "\n",
    "                    - mindestens 1 HTML component enthalten\n",
    "                    - 1 Dash Core Component mit dem Daten ausgewählt werden können\n",
    "                    - 1 Grafik, die sich in Abhängigkeit von der Datenauswahl ändert\n"
   ]
  }
 ],
 "metadata": {
  "hide_input": false,
  "kernelspec": {
   "display_name": "Python 3 (ipykernel)",
   "language": "python",
   "name": "python3"
  },
  "language_info": {
   "codemirror_mode": {
    "name": "ipython",
    "version": 3
   },
   "file_extension": ".py",
   "mimetype": "text/x-python",
   "name": "python",
   "nbconvert_exporter": "python",
   "pygments_lexer": "ipython3",
   "version": "3.8.16"
  },
  "nbTranslate": {
   "displayLangs": [
    "*"
   ],
   "hotkey": "alt-t",
   "langInMainMenu": true,
   "sourceLang": "en",
   "targetLang": "fr",
   "useGoogleTranslate": true
  },
  "toc": {
   "base_numbering": 1,
   "nav_menu": {},
   "number_sections": true,
   "sideBar": true,
   "skip_h1_title": false,
   "title_cell": "Table of Contents",
   "title_sidebar": "Contents",
   "toc_cell": false,
   "toc_position": {},
   "toc_section_display": true,
   "toc_window_display": false
  },
  "varInspector": {
   "cols": {
    "lenName": 16,
    "lenType": 16,
    "lenVar": 40
   },
   "kernels_config": {
    "python": {
     "delete_cmd_postfix": "",
     "delete_cmd_prefix": "del ",
     "library": "var_list.py",
     "varRefreshCmd": "print(var_dic_list())"
    },
    "r": {
     "delete_cmd_postfix": ") ",
     "delete_cmd_prefix": "rm(",
     "library": "var_list.r",
     "varRefreshCmd": "cat(var_dic_list()) "
    }
   },
   "types_to_exclude": [
    "module",
    "function",
    "builtin_function_or_method",
    "instance",
    "_Feature"
   ],
   "window_display": false
  }
 },
 "nbformat": 4,
 "nbformat_minor": 4
}
