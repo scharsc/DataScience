{
 "cells": [
  {
   "cell_type": "markdown",
   "metadata": {},
   "source": [
    "### CRISP DM: Data Understanding\n",
    "\n",
    "Brainstorming Businessfragen:\n",
    "    - funded_amount ... mit Ablauf der \"Crowding\"zeit erhaltener Betrag/ ausgezahlter Betrag in USD\n",
    "       - Haben wir in allen Investmentgrößen genügend Kunden?\n",
    "       - Wie hoch sind die Beträge? Bar Plot nach markanten Größen (univariat). Wie hoch ist das Volumen.\n",
    "    - loan_amount ... Zielbetrag (Betrag dem man für das Projekt erreichen wollte) in USD\n",
    "       - Wie häufig wird der Zielbetrag erreicht? (bivariat)\n",
    "       - Wie häufig wird der Zielbetrag in den Grenzen erreicht?\n",
    "    - activity ... Unterkategory zu dem das Ziel des Crowdprojektes thematisch gehört\n",
    "       - Wieviele Projekte der Unterkategorie haben wir? (univariat)\n",
    "       - Wieviel Volumen nach den jeweiligen Unterkategorien haben wir?\n",
    "    - sector ... Oberkategory in den das Crowdprojektes Thema fällt\n",
    "        - analog Oberkategorie\n",
    "    - use ... Kurzbeschreibung wofür das Geld verwendet werden soll\n",
    "        - Freitext? sicher schwieriger zu analyiseren\n",
    "    - country_code ... Ländercode nach ISO Norm\n",
    "        - Aus welchen Ländern  kommen die? Haben wir noch Potenziale in Ländern?\n",
    "    - country ... Ländername nach ISO Norm\n",
    "    - region ... Region\n",
    "    - currency ... Währung in den der funded_amount dann ausgezahlt wurde\n",
    "    - term in months ... Dauer über die der Kredit ausgezahlt werden soll\n",
    "        - Wie lange sind die Auszahlungsdauern nach markanten Grenzen? (univariat, Balkendiagramm)\n",
    "    - lender_count ...Darlehensgeber (also wieviele Personen Geld für das Projekt gegeben haben)\n",
    "        - Wieviele Beteilige haben wir in der Regel (univariat, Balkendiagramm)\n",
    "    - borrower_genders ... Geschlecht und Anzahl der Darlehensnehmer, also diejenigen die das Crowdprojekt initiiert haben    \n",
    "        - Welche Geschlechter investieren? univariat, Balkendiagramm   \n",
    "    - repayment interval ... vertraglich vereinbarte Rückzahlungsmodalitäten/-rhythmus\n",
    "        -???\n",
    "\n",
    "\n",
    "Thema 1: Investoren. Wer sind die Investoren?\n",
    "    * Aus welchen Ländern kommen die Investoren her? univariat\n",
    "    ** In welchen Ländern steckt noch Potenzial??\n",
    "    * Wieviel investieren die Nationalitäten ? bivariat Nationalität, Investment (Barplot, Geo-Map mit Balken )\n",
    "        ** durchschnittlich? \n",
    "        ** Gesamt-Investmentvolumen.\n",
    "        ** Nach Brutto-Inlandsprodukt? multivariat Bubblemap, Barplot ***\n",
    "\n",
    "    * Welche Nationalitäten investiert in welchen Bereich? multivariat (Nationalität, Bereich, Investmentvolumen)\n",
    "        ** Bubble-Chart\n",
    "    * Geschlecht. Welches Geschlecht investiert mehr? bivariat.\n",
    "    * In welche Bereiche investiert welches Geschlecht? ggf. multivariat\n",
    "Thema 2: Projekte\n",
    "    * Wieviele Projekte gibt es in den Kategorien/Unterkategorien? \n",
    "    * Wie hoch ist das Investmentvolumen nach Kategorie? bivariat: Boxplot pro Kategorie \n",
    "    * Welche \n"
   ]
  }
 ],
 "metadata": {
  "language_info": {
   "name": "python"
  }
 },
 "nbformat": 4,
 "nbformat_minor": 2
}
