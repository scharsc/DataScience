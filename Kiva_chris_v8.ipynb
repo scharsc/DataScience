{
 "cells": [
  {
   "cell_type": "markdown",
   "id": "34f98d2b",
   "metadata": {},
   "source": [
    "# Abschlussprojekt: Kiva funding platform\n",
    "\n",
    "## CRISP DM: Business Understanding\n",
    "\n",
    "Unser Geschäftsmodell ist das Betreiben einer Plattform (crowd-investing) bei der sich Personen die eine Geschäftsidee haben, aber nicht das benötigte Geld, anmelden und für ihr Projekt innerhalb einer vorgegebenen Zeit Geld sammeln können. \n",
    "\n",
    "Auf der anderen Seite haben wir Geldgeber, die gern ihr Geld in Projekte anlegen möchten und nach Investitionen suchen. \n",
    "\n",
    "Als Vermittler bringt unsere Plattform also Geldnehmer und Geldgeber zusammen. \n",
    "\n",
    "Unsere Datenbasis ist die Historie eurer Plattform. \n",
    "\n",
    "**Getroffene Annahmen zu unserem Geschäftsmodell**\n",
    "\n",
    "Alle Projekte sind abgeschlossene Projekte, d.h. die Zeit, um für sein Projekt Geld zu sammeln ist abgelaufen. \n",
    "Unser Geschäftsmodell sieht es vor, dass die gesammelten Gelder ausgezahlt werden, auch wenn der Zielbetrag nicht erreicht wurde.\n",
    "\n",
    "Wir verdienen unser Geld mit einer Provision für jedes Projekt was auf unserer Plattform landet. \n",
    "Wir nehmen an, dass wir in der Regel einen prozentualen Anteil bekommen und dass wir mit mehr Volumen aus den Projekten auch mehr Provision erhalten. D.h. das ein Mehr an Projekten oder teurere Projekte für uns von Vorteil sind.\n",
    "\n",
    "Ziel ist daher die Geschäftserweiterung.\n",
    "\n",
    "## CRISP DM: Data Understanding\n",
    "\n",
    "\n",
    "    - funded_amount ... mit Ablauf der \"Crowding\"zeit erhaltener Betrag/ ausgezahlter Betrag in USD\n",
    "    - loan_amount ... Zielbetrag (Betrag dem man für das Projekt erreichen wollte) in USD\n",
    "    - activity ... Unterkategory zu dem das Ziel des Crowdprojektes thematisch gehört\n",
    "    - sector ... Oberkategory in den das Crowdprojektes Thema fällt\n",
    "    - use ... Kurzbeschreibung wofür das Geld verwendet werden soll\n",
    "    - country_code ... Ländercode nach ISO Norm\n",
    "    - country ... Ländername nach ISO Norm\n",
    "    - region ... Region\n",
    "    - currency ... Währung in den der funded_amount dann ausgezahlt wurde\n",
    "    - term in months ... Dauer über die der Kredit ausgezahlt werden soll\n",
    "    - lender_count ...Darlehensgeber (also wieviele Personen Geld für das Projekt gegeben haben)\n",
    "    - borrower_genders ... Geschlecht und Anzahl der Darlehensnehmer, also diejenigen die das Crowdprojekt initiiert haben       \n",
    "    - repayment interval ... vertraglich vereinbarte Rückzahlungsmodalitäten/-rhythmus\n",
    "\n",
    "## Datenaufbereitung"
   ]
  },
  {
   "cell_type": "markdown",
   "id": "59349d89",
   "metadata": {},
   "source": [
    "### Bibs importieren"
   ]
  },
  {
   "cell_type": "code",
   "execution_count": null,
   "id": "a41a2b2a",
   "metadata": {},
   "outputs": [],
   "source": [
    "import numpy as np\n",
    "import pandas as pd\n",
    "import plotly_express as px\n",
    "\n",
    "# für Dashboard\n",
    "from dash import Dash\n",
    "from dash import dcc\n",
    "from dash import html\n",
    "from dash.dependencies import Input, Output\n",
    "from dash import no_update\n",
    "\n",
    "# misc\n",
    "import re\n",
    "\n",
    "# Wichtig, wenn das Notebook exportiert wird in HTML, dann werden die Grafiken auch im HTML angezeigt \n",
    "from plotly.offline import init_notebook_mode, iplot\n",
    "init_notebook_mode(connected=True)\n",
    "\n",
    "#recommened behaviour for pandas. Avoids warning.\n",
    "pd.options.mode.copy_on_write = True"
   ]
  },
  {
   "cell_type": "markdown",
   "id": "af6a4f5c",
   "metadata": {},
   "source": [
    "### Daten einlesen"
   ]
  },
  {
   "cell_type": "code",
   "execution_count": null,
   "id": "5b6a5d88",
   "metadata": {},
   "outputs": [],
   "source": [
    "df = pd.read_csv(\"data_abschlussprojekt.csv\", engine='python', nrows=2)\n",
    "df"
   ]
  },
  {
   "cell_type": "code",
   "execution_count": null,
   "id": "7ead2bc5",
   "metadata": {},
   "outputs": [],
   "source": [
    "df.columns"
   ]
  },
  {
   "cell_type": "code",
   "execution_count": null,
   "id": "a59423c2",
   "metadata": {},
   "outputs": [],
   "source": [
    "df = pd.read_csv(\"data_abschlussprojekt.csv\", \n",
    "                 sep='#',\n",
    "                 engine=\"python\", \n",
    "                 skipinitialspace=True, \n",
    "                 index_col=0)\n",
    "df"
   ]
  },
  {
   "cell_type": "markdown",
   "id": "773e8d2b",
   "metadata": {},
   "source": [
    "### Objekte kennenlernen\n",
    "                                #### Beobachtung: Problem: \"[True, u'to start a turducken farm.']\" "
   ]
  },
  {
   "cell_type": "code",
   "execution_count": null,
   "id": "aff75510",
   "metadata": {},
   "outputs": [],
   "source": [
    "df.columns # Spalten"
   ]
  },
  {
   "cell_type": "code",
   "execution_count": null,
   "id": "81facdd7",
   "metadata": {},
   "outputs": [],
   "source": [
    "print(df.info()) # DatenTypen "
   ]
  },
  {
   "cell_type": "markdown",
   "id": "3cf95ee1",
   "metadata": {},
   "source": [
    "### DatenTypen Konvertieren"
   ]
  },
  {
   "cell_type": "code",
   "execution_count": null,
   "id": "f27445ff",
   "metadata": {},
   "outputs": [],
   "source": [
    "# wieviel unique values haben die object spalten\n",
    "cols = df.columns\n",
    "for col in cols:\n",
    "    print(f\"{col}: \", df[col].nunique())"
   ]
  },
  {
   "cell_type": "code",
   "execution_count": null,
   "id": "9243865b",
   "metadata": {},
   "outputs": [],
   "source": [
    "# potentielle categories\n",
    "# gibt es verdächtige strings?\n",
    "cols = [\"sector\", \"country_code\", \"currency\", \"repayment_interval\"]\n",
    "# lists zu lang: \"activity\", \"country\"\n",
    "\n",
    "for col in cols:\n",
    "    strings = []\n",
    "    for element in df[col].unique():\n",
    "        strings.append(element)\n",
    "\n",
    "    # Ausgabe der wirklichen Strings\n",
    "    print(f\"{col}: {strings}\")"
   ]
  },
  {
   "cell_type": "code",
   "execution_count": null,
   "id": "356d5fbb",
   "metadata": {},
   "outputs": [],
   "source": [
    "df['activity'] = df['activity'].astype(\"category\")\n",
    "df['sector'] = df['sector'].astype(\"category\")\n",
    "df['use'] = df['use'].astype(\"string\")\n",
    "df['country_code'] = df['country_code'].astype(\"category\")\n",
    "df['country'] = df['country'].astype(\"category\")\n",
    "df['currency'] = df['currency'].astype(\"category\")\n",
    "df['region'] = df['region'].astype(\"string\")\n",
    "df['borrower_genders'] = df['borrower_genders'].astype(\"string\")\n",
    "df['repayment_interval'] = df['repayment_interval'].astype(\"category\")\n",
    "\n",
    "df.dtypes"
   ]
  },
  {
   "cell_type": "markdown",
   "id": "e3ede686",
   "metadata": {},
   "source": [
    "### Duplicate"
   ]
  },
  {
   "cell_type": "code",
   "execution_count": null,
   "id": "4b4443dc",
   "metadata": {
    "scrolled": true
   },
   "outputs": [],
   "source": [
    "df_duplicated = df[df.duplicated(keep=False)]\n",
    "df_duplicated"
   ]
  },
  {
   "cell_type": "markdown",
   "id": "d690bc17",
   "metadata": {},
   "source": [
    "- 34930 rows duplicated\n",
    "--> diese **nicht Löschen** weil sie **nicht eindeutig** zu zuordnen sind. Es fehlen beispielsweise eine Identifikation und ein Antragsdatum."
   ]
  },
  {
   "cell_type": "markdown",
   "id": "0f9d195b",
   "metadata": {},
   "source": [
    "### systemseitig Fehlende Werte - NaN\n",
    "\n",
    "**1) fehlende Werte in 'use' und 'borrower_genders' verwefen,**\n",
    "\n",
    "**2) fehlende Werte (8) im countrycode ersetzen unter Zuhilfenahme der Information durch die Spalte 'region'**\n",
    "\n",
    "**3) ersetze 'region' NaNs mit einem Synonym z.B. \"not specified\"**"
   ]
  },
  {
   "cell_type": "code",
   "execution_count": null,
   "id": "24b60a65",
   "metadata": {
    "scrolled": true
   },
   "outputs": [],
   "source": [
    "df.isna().sum() # NaNs overview"
   ]
  },
  {
   "cell_type": "markdown",
   "id": "1b25e2c2",
   "metadata": {},
   "source": [
    "#### fehlende Werte in 'use' und 'borrower_genders' verwerfen,\n",
    "**Begründung:**\n",
    "- da gleiche rows betroffen sind. Ebenfalls sind diese rows auch in 'region' NaNs\n",
    "- kein weiteres Muster erkennbar, kein eindeutiges skewing feststellbar und sehr geringer Anteil am Datensatz (<1%)"
   ]
  },
  {
   "cell_type": "code",
   "execution_count": null,
   "id": "ee1ca569",
   "metadata": {},
   "outputs": [],
   "source": [
    "df.loc[df[\"use\"].isna(), :  ] # NaNs in 'use' auflisten"
   ]
  },
  {
   "cell_type": "code",
   "execution_count": null,
   "id": "e1d0a52b",
   "metadata": {},
   "outputs": [],
   "source": [
    "(df['use'].isna() & df['borrower_genders'].isna()).value_counts() # Anzahl der NaNs in 'borrower_gender' & 'use' sharing the same row indices? 3888"
   ]
  },
  {
   "cell_type": "code",
   "execution_count": null,
   "id": "a0c23eb1",
   "metadata": {},
   "outputs": [],
   "source": [
    "# Anzahl der NaNs in 'borrower_gender' & 'use' & 'region' sharing the same row indices? Skewing? spezielles land betroffen? 3888\n",
    "dfisna = df.loc[(df['use'].isna() & df['borrower_genders'].isna()\n",
    "                 & df['region'].isna()), :]\n",
    "dfisna"
   ]
  },
  {
   "cell_type": "code",
   "execution_count": null,
   "id": "b7c770a1",
   "metadata": {
    "scrolled": true
   },
   "outputs": [],
   "source": [
    "dfisna['repayment_interval'].unique()"
   ]
  },
  {
   "cell_type": "code",
   "execution_count": null,
   "id": "2208b78a",
   "metadata": {
    "scrolled": true
   },
   "outputs": [],
   "source": [
    "dfisna['region'].unique()"
   ]
  },
  {
   "cell_type": "code",
   "execution_count": null,
   "id": "9f16c819",
   "metadata": {},
   "outputs": [],
   "source": [
    "df = df.dropna(subset=['use']) # Löschen von Zeilen, in denen \"use\" NaN ist\n",
    "df = df.dropna(subset=['borrower_genders']) # Löschen von Zeilen, in denen \"borrower_genders\" NaN ist"
   ]
  },
  {
   "cell_type": "markdown",
   "id": "307d9e24",
   "metadata": {},
   "source": [
    "#### Nan in country Code für land Nambiba mit 'Na' befüllen\n",
    "**Begründung:** \n",
    "- wir kennen den country code von Namibia"
   ]
  },
  {
   "cell_type": "code",
   "execution_count": null,
   "id": "b59d5445",
   "metadata": {},
   "outputs": [],
   "source": [
    "dfisna2 = df[df['country_code'].isna()] # alle NaNs in 'countrycode' sind in 'country' Namibia (countrycode=Na)\n",
    "dfisna2"
   ]
  },
  {
   "cell_type": "code",
   "execution_count": null,
   "id": "fbe8fbe1",
   "metadata": {},
   "outputs": [],
   "source": [
    "df['country_code'] = df['country_code'].cat.add_categories(\"Na\") # neue Kategorie \"Na\" zu Category 'Country_code'\n",
    "\n",
    "df.loc[:, 'country_code'] = df['country_code'].fillna(\"Na\") # \"Na\" eintragen\n",
    "na_country = df[df['country_code'] == \"Na\"]\n",
    "\n",
    "na_country\n",
    "\n"
   ]
  },
  {
   "cell_type": "markdown",
   "id": "6aacfb45",
   "metadata": {},
   "source": [
    "#### Umgang mit Fehlende Werten in der Spalte 'region', ersetzen mit 'Not specified'\n",
    "\n",
    "**Begründung:**\n",
    "- region hat für die weitere Betrachtung der Oberkategorien (Sektoren) keinen großen Einfluss -> jedoch das Löschen der gesamten Zeilen könnte eine Verfälschung der Analyse zur Folge haben (56800 Datensätze (~9 %) betroffen).\n"
   ]
  },
  {
   "cell_type": "code",
   "execution_count": null,
   "id": "fa17feb6",
   "metadata": {
    "scrolled": true
   },
   "outputs": [],
   "source": [
    "df.loc[:, 'region'] = df['region'].fillna(\"Not specified\") # Auffuellen mit \"Not specified\"\n",
    "df[df['region'] == \"Not specified\"]  # check"
   ]
  },
  {
   "cell_type": "markdown",
   "id": "8952e414",
   "metadata": {},
   "source": [
    "### Extremwerte"
   ]
  },
  {
   "cell_type": "code",
   "execution_count": null,
   "id": "b76a8301",
   "metadata": {},
   "outputs": [],
   "source": [
    "df.describe()"
   ]
  },
  {
   "cell_type": "code",
   "execution_count": null,
   "id": "04f56c8e",
   "metadata": {},
   "outputs": [],
   "source": [
    "df[df.funded_amount == 100000]"
   ]
  },
  {
   "cell_type": "code",
   "execution_count": null,
   "id": "5307f875",
   "metadata": {},
   "outputs": [],
   "source": [
    "# Commented as it slows down notebook\n",
    "# fig12 = px.box(df.funded_amount, title='Extremwerte in funded_amount?')\n",
    "# fig12.update_layout(yaxis_type=\"log\")\n",
    "# fig12.show()"
   ]
  },
  {
   "cell_type": "code",
   "execution_count": null,
   "id": "a8522eca",
   "metadata": {},
   "outputs": [],
   "source": [
    "df[df.loan_amount == 100000]"
   ]
  },
  {
   "cell_type": "code",
   "execution_count": null,
   "id": "984155a7",
   "metadata": {},
   "outputs": [],
   "source": [
    "fig13 = px.box(df.loan_amount, title='Extremwerte in loan_amount?')\n",
    "fig13.update_layout(yaxis_type=\"log\")\n",
    "fig13.show()"
   ]
  },
  {
   "cell_type": "code",
   "execution_count": null,
   "id": "7017de4e",
   "metadata": {},
   "outputs": [],
   "source": [
    "df[df.lender_count == 2986]"
   ]
  },
  {
   "cell_type": "code",
   "execution_count": null,
   "id": "cd322ab0",
   "metadata": {},
   "outputs": [],
   "source": [
    "df.sort_values(by='lender_count', ascending=False)"
   ]
  },
  {
   "cell_type": "code",
   "execution_count": null,
   "id": "4b14bec5",
   "metadata": {},
   "outputs": [],
   "source": [
    "# Commented as it slows down notebook\n",
    "# fig14 = px.box(df.lender_count, \n",
    "#                title='Extremwerte in lender_count?'\n",
    "#               )\n",
    "# fig14.update_layout(yaxis_type=\"log\")\n",
    "# fig14.show()"
   ]
  },
  {
   "cell_type": "markdown",
   "id": "02ba9eff",
   "metadata": {},
   "source": [
    "#### Ergebnis Ausreißer/Extremwerte\n",
    "Aus der Beschreibung des df (.describe()) ergeben sich potentielle Extremwerte/Ausreißer in der jeweils gleichen Zeile fuer funded_amount, loan_amount und lender_count (70499). Es handelt sich um einen Extremwert fuer ein Projekt mit 2986 beteiligten (aus lender_count)"
   ]
  },
  {
   "cell_type": "markdown",
   "id": "772eb755",
   "metadata": {},
   "source": [
    "### Zusätzliche KPIs\n",
    "#### Funding Rate\n",
    "Als zusätzliche KPI führen wir die Spalte funding_rate ein. Diese gibt an, wie hoch der Grad der Finanzierung in prozent ist, indem der funded_amount mit dem loan amount ins Verhaeltnis gesetzt wird."
   ]
  },
  {
   "cell_type": "code",
   "execution_count": null,
   "id": "905de3e8",
   "metadata": {},
   "outputs": [],
   "source": [
    "df['funding_rate'] = round((df['funded_amount'] / df['loan_amount']) * 100, 2)\n",
    "df.head(10)"
   ]
  },
  {
   "cell_type": "code",
   "execution_count": null,
   "id": "6e754e4f",
   "metadata": {
    "scrolled": true
   },
   "outputs": [],
   "source": [
    "sortedbyfr_df = df.sort_values(by='funding_rate', ascending=True)\n",
    "sortedbyfr_df"
   ]
  },
  {
   "cell_type": "code",
   "execution_count": null,
   "id": "768f5ce8",
   "metadata": {},
   "outputs": [],
   "source": [
    "print(df.info())"
   ]
  },
  {
   "cell_type": "code",
   "execution_count": null,
   "id": "c7300f0b",
   "metadata": {},
   "outputs": [],
   "source": [
    "# number of uniques and unique items in column sector\n",
    "print(df.loc[:,'sector'].nunique(), df.loc[:,'sector'].unique())"
   ]
  },
  {
   "cell_type": "code",
   "execution_count": null,
   "id": "5a5571b0",
   "metadata": {},
   "outputs": [],
   "source": [
    "# number of uniques and unique items in column activity\n",
    "print(df.loc[:,'activity'].nunique(), df.loc[:,'activity'].unique())"
   ]
  },
  {
   "cell_type": "markdown",
   "id": "f9c9a57f",
   "metadata": {},
   "source": [
    "#### Anzahl der am Projekt beteiligten Personen\n",
    "Als zusätzliche KPI führen wir die Spalte borrower_count ein. Diese gibt an, wie viele Beteiligte (Darlehensnehmer) es am Projekt gab. Dazu zählen wir die Häufigkeit von \"male\" und \"female\" in der Spalte borrowers_gender"
   ]
  },
  {
   "cell_type": "code",
   "execution_count": null,
   "id": "b14d0908",
   "metadata": {},
   "outputs": [],
   "source": [
    "df.loc[:,'borrower_genders'].unique()"
   ]
  },
  {
   "cell_type": "code",
   "execution_count": null,
   "id": "8abdcbf6",
   "metadata": {},
   "outputs": [],
   "source": [
    "# Method to count persons (male, females) in list\n",
    "\n",
    "def person_count(text):\n",
    "    male_pattern = re.compile(r'\\bmale\\b', flags=re.IGNORECASE)\n",
    "    male_count = len(male_pattern.findall(text))\n",
    "    female_pattern = re.compile(r'\\bfemale\\b', flags=re.IGNORECASE)\n",
    "    female_count = len(female_pattern.findall(text))\n",
    "    return male_count + female_count\n",
    "\n",
    "\n",
    "# Insert new row \"borrower_count\"\n",
    "df['borrower_count'] = df['borrower_genders'].map(person_count)"
   ]
  },
  {
   "cell_type": "markdown",
   "id": "5ce07cb5",
   "metadata": {},
   "source": [
    "## EDA"
   ]
  },
  {
   "cell_type": "markdown",
   "id": "3abfe961",
   "metadata": {},
   "source": [
    "### Wer sind wir?\n",
    "- wir sind Kiva, wir machen X funding moeglich in total per year / overall"
   ]
  },
  {
   "cell_type": "code",
   "execution_count": null,
   "id": "80afe269",
   "metadata": {},
   "outputs": [],
   "source": [
    "sumFundsTotal = df.loc[:,'funded_amount'].sum() # Summe der Fundings overall\n",
    "sumFundsTotal"
   ]
  },
  {
   "cell_type": "code",
   "execution_count": null,
   "id": "0fe54c3a",
   "metadata": {
    "scrolled": true
   },
   "outputs": [],
   "source": [
    "sumLoansTotal = df.loc[:,'loan_amount'].sum() # Summe der Loans overall\n",
    "sumLoansTotal"
   ]
  },
  {
   "cell_type": "code",
   "execution_count": null,
   "id": "3430dd13",
   "metadata": {},
   "outputs": [],
   "source": [
    "fundingCapacityNom = sumLoansTotal-sumFundsTotal\n",
    "fundingCapacityNom"
   ]
  },
  {
   "cell_type": "code",
   "execution_count": null,
   "id": "de150eb3",
   "metadata": {},
   "outputs": [],
   "source": [
    "fundingCapacityRatio = sumFundsTotal/sumLoansTotal\n",
    "fundingCapacityRatio"
   ]
  },
  {
   "cell_type": "code",
   "execution_count": null,
   "id": "76c1743e",
   "metadata": {},
   "outputs": [],
   "source": [
    "#Anzahl der Projekte (donut fuer die 15 categories)\n",
    "df_sector = df.groupby(by='sector', as_index=False, observed=False).agg(amount_of_projects=(\"sector\",\"count\")).sort_values(by=\"amount_of_projects\", ascending=False)\n",
    "df_sector = df_sector.reset_index(drop=True)\n",
    "df_sector\n"
   ]
  },
  {
   "cell_type": "code",
   "execution_count": null,
   "id": "86a21274",
   "metadata": {},
   "outputs": [],
   "source": [
    "bottom_seven = df_sector.tail(7)\n",
    "bottom_seven_sum = bottom_seven['amount_of_projects'].sum()\n",
    "df_other = pd.DataFrame({'sector': ['Other'], 'amount_of_projects': [bottom_seven_sum]})\n",
    "df_sector2 = pd.concat([df_sector, df_other], ignore_index=True).sort_values(by=\"amount_of_projects\", ascending=False)\n",
    "df_sector2 = df_sector2.drop(df_sector2.tail(7).index)\n",
    "df_sector2 = df_sector2.reset_index(drop=True)\n",
    "df_sector2"
   ]
  },
  {
   "cell_type": "markdown",
   "id": "99d6a3d8",
   "metadata": {},
   "source": [
    "### In welchen Oberkategorien sind die meisten Projekte?"
   ]
  },
  {
   "cell_type": "code",
   "execution_count": null,
   "id": "fe449a93",
   "metadata": {},
   "outputs": [],
   "source": [
    "#color map for our sectors\n",
    "sectors = df[\"sector\"].unique()\n",
    "colorMap = {val: 'lightgrey' for val in sectors}\n",
    "\n",
    "ourSectors = [\"Entertainment\", \"Wholesale\", \"Health\", \"Construction\", \"Manufacturing\"]\n",
    "for val in ourSectors:\n",
    "    colorMap[val]=\"yellow\"\n",
    "# zusätzlich noch Other Kategorie\n",
    "colorMap[\"Other\"] = \"yellow\""
   ]
  },
  {
   "cell_type": "code",
   "execution_count": 1,
   "id": "221cb82f",
   "metadata": {
    "scrolled": false
   },
   "outputs": [
    {
     "ename": "NameError",
     "evalue": "name 'df' is not defined",
     "output_type": "error",
     "traceback": [
      "\u001b[1;31m---------------------------------------------------------------------------\u001b[0m",
      "\u001b[1;31mNameError\u001b[0m                                 Traceback (most recent call last)",
      "Cell \u001b[1;32mIn[1], line 1\u001b[0m\n\u001b[1;32m----> 1\u001b[0m df_sector \u001b[38;5;241m=\u001b[39m df\u001b[38;5;241m.\u001b[39mgroupby(by\u001b[38;5;241m=\u001b[39m\u001b[38;5;124m'\u001b[39m\u001b[38;5;124msector\u001b[39m\u001b[38;5;124m'\u001b[39m, as_index\u001b[38;5;241m=\u001b[39m\u001b[38;5;28;01mFalse\u001b[39;00m, observed\u001b[38;5;241m=\u001b[39m\u001b[38;5;28;01mFalse\u001b[39;00m)\u001b[38;5;241m.\u001b[39magg(amount_of_projects\u001b[38;5;241m=\u001b[39m(\n\u001b[0;32m      2\u001b[0m     \u001b[38;5;124m\"\u001b[39m\u001b[38;5;124msector\u001b[39m\u001b[38;5;124m\"\u001b[39m, \u001b[38;5;124m\"\u001b[39m\u001b[38;5;124mcount\u001b[39m\u001b[38;5;124m\"\u001b[39m))\u001b[38;5;241m.\u001b[39msort_values(by\u001b[38;5;241m=\u001b[39m\u001b[38;5;124m\"\u001b[39m\u001b[38;5;124mamount_of_projects\u001b[39m\u001b[38;5;124m\"\u001b[39m, ascending\u001b[38;5;241m=\u001b[39m\u001b[38;5;28;01mFalse\u001b[39;00m)\n\u001b[0;32m      3\u001b[0m df_sector \u001b[38;5;241m=\u001b[39m df_sector\u001b[38;5;241m.\u001b[39mreset_index(drop\u001b[38;5;241m=\u001b[39m\u001b[38;5;28;01mTrue\u001b[39;00m)\n\u001b[0;32m      4\u001b[0m df_sector\n",
      "\u001b[1;31mNameError\u001b[0m: name 'df' is not defined"
     ]
    }
   ],
   "source": [
    "df_sector = df.groupby(by='sector', as_index=False, observed=False).agg(amount_of_projects=(\n",
    "    \"sector\", \"count\")).sort_values(by=\"amount_of_projects\", ascending=False)\n",
    "df_sector = df_sector.reset_index(drop=True)\n",
    "df_sector\n",
    "\n",
    "bottom_five = df_sector.tail(5)\n",
    "bottom_five_sum = bottom_five['amount_of_projects'].sum()\n",
    "df_other = pd.DataFrame(\n",
    "    {'sector': ['Other'], 'amount_of_projects': [bottom_five_sum]})\n",
    "df_sector2 = pd.concat([df_sector, df_other], ignore_index=True).sort_values(\n",
    "    by=\"amount_of_projects\", ascending=False)\n",
    "df_sector2 = df_sector2.drop(df_sector2.tail(5).index)\n",
    "df_sector2 = df_sector2.reset_index(drop=True)\n",
    "df_sector2\n",
    "\n",
    "\n",
    "df_sector4 = df_sector2.sort_values(\n",
    "    by=\"amount_of_projects\", ascending=True).reset_index(drop=True)\n",
    "df_sector4\n",
    "\n",
    "gewuenschte_reihenfolge = [\n",
    "    \"Other\",\n",
    "    \"Transportation\",\n",
    "    \"Arts\",\n",
    "    \"Personal Use\",\n",
    "    \"Education\",\n",
    "    \"Housing\",\n",
    "    \"Clothing\",\n",
    "    \"Services\",\n",
    "    \"Retail\",\n",
    "    \"Food\",\n",
    "    \"Agriculture\",\n",
    "]\n",
    "\n",
    "\n",
    "fig1 = px.pie(df_sector4,\n",
    "              values='amount_of_projects',\n",
    "              names='sector',\n",
    "              title='Großteil der Projekte beschäftigt sich mit der Befriedigung existentieller Beduerfnisse',\n",
    "              hover_name='sector',\n",
    "              color=\"sector\",\n",
    "              color_discrete_map=colorMap,\n",
    "              category_orders={\"sector\": gewuenschte_reihenfolge},\n",
    "              # sort=True  # Deaktivieren Sie die automatische Sortierung\n",
    "              )\n",
    "fig1.update_traces(textposition='inside',\n",
    "                   textinfo='label',\n",
    "                   hole=0.4,\n",
    "                   direction='counterclockwise',\n",
    "                   rotation=65,\n",
    "                   selector=dict(type='pie')\n",
    "                   )\n",
    "annotation_text = \"Health            1.42%<br>Construction   0.96%<br>Manufacturing 0.96%<br>Entertainment 0.13%<br>Wholesale       0.10%\"\n",
    "\n",
    "fig1.add_annotation(\n",
    "    text=annotation_text,\n",
    "    x=0.88,\n",
    "    y=0.55,\n",
    "    ax=0.51,\n",
    "    ay=0.51,\n",
    "    showarrow=True,\n",
    "    arrowhead=2,\n",
    "    font=dict(size=14),\n",
    "    align=\"left\"\n",
    ")\n",
    "\n",
    "\n",
    "fig1.add_annotation(text=' ', x=0.725, y=0.65, ax=38.0, ay=0,\n",
    "                    showarrow=True, arrowhead=2, arrowwidth=2.0, font={\"size\": 14})\n",
    "fig1.show()"
   ]
  },
  {
   "cell_type": "markdown",
   "id": "98c2ade4",
   "metadata": {},
   "source": [
    "##### Analyse\n",
    "Fig.1: Anteilige Verteilung der Gesamtzahl der beantragten Projekte anhand ihrer Oberkategorien (Sektoren)\n",
    "\n",
    "###### deskriptiv\n",
    "Das Donut Diagramm zeigt einen Kreis, der in Bereiche unterteilt ist, wobei jeder Bereich eine bestimmte Oberkategorie repräsentiert, wie z.B. Agriculture, Food, Retail usw. Jeder Sektor wird proportional zu seinem Anteil an der Gesamtzahl der beantragten Projekte dargestellt.\n",
    "Je groesser der Wert, desto mehr Antraege wurden in dem jeweiligen Sektor gestellt. Sektoren die weniger als 2% der Projekte ausmachen (Wholesale, Entertainment, Manufacturing, Construction) wurden zu Other zusammengefasst, gelb hervorgehoben und in Textform beschrieben.\n",
    "\n",
    "###### analytisch\n",
    "\n",
    "**Ermittlung des Sollzustandes** \n",
    "\n",
    "Alle Sektoren sollte gleichmaessig verteilt sein, weil wir ueberall ueber den Umsatz der Projekte und somit unsere Provison Geld verdienen wollen.\n",
    "\n",
    "**Vergleich Ist - Sollzustand** \n",
    "\n",
    "Ein Großteil der Projekte beschäftigt sich mit der Befriedigung existentieller Beduerfnisse, Agriculture, Food und Retail sind die groessten Sektoren und machen zusammen ca. 60% aus. In den Bereichen die unter \"Other\" zusammengefasst sind besteht Wachstumspotential. \n",
    "\n",
    "**Limitation**\n",
    "\n",
    "Die Verteilung der Zielbeträge in den jeweiligen Oberkategorien, sowie die tatsaechliche Funding rate gehen aus der Darstellung nicht hervor."
   ]
  },
  {
   "cell_type": "markdown",
   "id": "6755f844",
   "metadata": {},
   "source": [
    "### Welche Oberkategorien haben höchste Zielbetragsgröße"
   ]
  },
  {
   "cell_type": "code",
   "execution_count": null,
   "id": "5fb93c86",
   "metadata": {},
   "outputs": [],
   "source": [
    "df_grouped3 = df.groupby(by=[\"sector\"], as_index=False, observed=False).agg(mean_loan_amount=(\n",
    "    \"loan_amount\", \"mean\")).sort_values(by=\"mean_loan_amount\", ascending=False)\n",
    "df_grouped3.reset_index()\n",
    "\n",
    "fig2 = px.bar(df_grouped3,\n",
    "             x=\"sector\",\n",
    "             y=\"mean_loan_amount\",\n",
    "             color='sector',\n",
    "             color_discrete_map=colorMap,\n",
    "             labels={\"mean_loan_amount\": \"Median der Zielbeträge in USD\",\n",
    "                     \"sector\": \"Oberkategorie\"},\n",
    "             title='Vier unserer fokussierten Bereiche haben größere mittlere Zielbeträge als der Median über alle Projekte',\n",
    "             template=\"plotly_white\",\n",
    "             )\n",
    "\n",
    "median = df_grouped3[\"mean_loan_amount\"].median()\n",
    "fig2.add_hline(y=median, line_width=2, line_dash=\"dash\")\n",
    "\n",
    "fig2.add_annotation(text='Mittlerer Zielbetrag über Median über alle Projekte',\n",
    "                   x=1.3, y=1500, ax=10, ay=-40, showarrow=True, arrowhead=2, arrowwidth=2.0)\n",
    "\n",
    "fig2.show()"
   ]
  },
  {
   "cell_type": "markdown",
   "id": "5de64c7b",
   "metadata": {},
   "source": [
    "#### Analyse\n",
    "##### deskriptiv\n",
    "- Achsen:\n",
    "    - Die x-Achse zeigt die Oberkategorien der Projekte als Balken. Die Kategorien sind nach absteigenden Median der Zielbeträge innerhalb der Oberkategorien sortiert.\n",
    "    - Die y-Achse zeigt den Median der Zielbeträge in USD.\n",
    "- Die Balkenhöhe zeigt den Median der Zielbeträge innerhalb der jeweiligen Oberkategorie.\n",
    "- Die gestrichelte Linie zeigt den Median der Zielbeträge über alle Projekte.\n",
    "\n",
    "\n",
    "##### analytisch\n",
    "**Sollzustand** \n",
    "\n",
    "Für uns als Unternehmen ist es wünschenswert, wenn auch die häufigsten Oberkategorien (siehen oben: \"Agriculture\", \"Food\", \"Retail\"), die höchsten Projekt-Zielwerte haben, damit wir eine hohe Anzahl an Projekten mit hohen Zielwerten und damit Provisionen haben.\n",
    "\n",
    "Die Trennlinie oben ist der Median der Zielwerte aller Projekte. Alle Oberkategorien, die oberhalb liegen haben einen höheren Zielbetrag.\n",
    "\n",
    "**Istzustand**\n",
    "\n",
    "Die häufigsten Oberkategorien  (\"Agriculture\", \"Food\", \"Retail\") haben im Gegensatz zu unserem Sollzustand einen geringen mittleren Zielbetrag (Median) als der Median über alle Projekte.\n",
    "Vier von fünf unserer fokussierten Oberkategorien (Health, Construction, Manufacturing, Entertainment, Wholesale) haben einen höheren mittleren Zielbetrag als der Median über alle Projekte.\n",
    "Ein Wachstum in diesen fokussierten Oberkategorien hat damit auch aus Sicht der höheren Zielwerte der Projekte Vorteile, da wir als Unternehmen durch höhere Provisionen stärker von diesen Oberkategorien profitieren. \n",
    "\n",
    "**Limitationen**\n",
    "\n",
    "Der Plot zeigt nur die Mediane innerhalb der Oberkategorien, wir sehen aber nicht die Streuung der Zielbeträge. Wir sehen auch nicht die Summe der Zielbeträge innerhalb der Oberkategorien, um anhand dieses Wertes zu sehen wie ausbaufähig die Oberkategorie ist."
   ]
  },
  {
   "cell_type": "markdown",
   "id": "c16d4626",
   "metadata": {},
   "source": [
    "### Wie hoch sind die Zielbetragsgrößen in den Kategorien nach Anzahl der am Projekt beteiligten Personen?"
   ]
  },
  {
   "cell_type": "code",
   "execution_count": null,
   "id": "3f90c24e",
   "metadata": {},
   "outputs": [],
   "source": [
    "# Only select Country Peru\n",
    "df_selected = df.loc[df[\"country\"] == \"Peru\", :]\n",
    "\n",
    "# categorize this column into buckets 1-4, 5-9, ... Persons\n",
    "bucketsize = 5\n",
    "mapRangeToString = {0: \"1-4\", 5: \"5-9\", 10: \"10-14\",\n",
    "                    15: \"15-19\", 20: \"20-24\", 25: \"25-30\"}\n",
    "df_selected.loc[:, 'borrower_countCategory'] = (\n",
    "    df_selected.loc[:, 'borrower_count'].copy() // bucketsize)*bucketsize\n",
    "df_selected.loc[:, 'borrower_countCategory'] = df_selected.loc[:,\n",
    "                                                               'borrower_countCategory'].copy().map(mapRangeToString)\n",
    "\n",
    "df_grouped = df_selected.groupby(by=[\"sector\", \"borrower_countCategory\"], observed=False).agg(\n",
    "    meadian_loan=(\"loan_amount\", \"median\"))\n",
    "\n",
    "categoriesSortedByTotalSum = [\"Agriculture\", \"Food\", \"Arts\", \"Retail\", \"Education\", \"Construction\", \"Construction\",\n",
    "                              \"Manufacturing\", \"Clothing\", \"Entertainment\", \"Transportation\", \"Personal Use\", \"Services\", \"Health\", \"Housing\", \"Wholesale\"]\n",
    "\n",
    "df_matrix = df_grouped.pivot_table(\n",
    "    index='borrower_countCategory', columns='sector', values='meadian_loan', aggfunc='median')\n",
    "df_matrix\n",
    "# Sort columns by given oder of categoriesSortedByTotalSum list\n",
    "df_matrix_sorted = df_matrix.loc[:, categoriesSortedByTotalSum]\n",
    "\n",
    "# Sort rows by given order of mapRangeToString to have categories 1-4, 5-9, ... in matrix sorted descending\n",
    "borrowerOder = list(mapRangeToString.values())\n",
    "borrowerOder.reverse()\n",
    "df_matrix_sorted = df_matrix_sorted.loc[borrowerOder, :]\n",
    "\n",
    "fig3 = px.imshow(df_matrix_sorted,\n",
    "                 color_continuous_scale=\"YlOrRd\",\n",
    "                 labels={\"y\": \"Anzahl der am Projekt Beteiligten\",\n",
    "                         \"x\": \"Oberkategorie der Projekte\",\n",
    "                         \"color\": \"Median der Zielbeträge in USD\"},\n",
    "                 title=\"Die möglichen Wachstums-Bereiche haben keine Projekte mit mehr als 20 Personen\",\n",
    "                 text_auto=True,\n",
    "                 template=\"simple_white\",\n",
    "                 height=800)\n",
    "\n",
    "fig3.add_hline(y=1.49, line_width=2, line_dash=\"dash\",\n",
    "               line_color=\"black\", opacity=1.0)\n",
    "fig3.add_vline(x=3.5, line_width=2, line_dash=\"dash\",\n",
    "               line_color=\"black\", opacity=1.0)\n",
    "\n",
    "# highlight insight that focused sections have less then 20  project participants\n",
    "fig3.add_annotation(text='Unsere fokussierten Bereiche haben alle weniger als 20 Beteiligte',\n",
    "                    x=8.0, y=1.0, showarrow=False, font={\"size\": 20})\n",
    "for x in [5, 6, 8, 12, 14]:\n",
    "    fig3.add_annotation(text='', x=x, y=1.45, showarrow=True,\n",
    "                        arrowhead=2, arrowcolor=\"sandybrown\", arrowwidth=2.0)\n",
    "\n",
    "# highlight insight that Arts and Retail have lower median in project loans in category 20-25 people than in category 15-19 people\n",
    "fig3.add_annotation(text='Zielbetrag ist weniger als bei 15-19 Beteiligten',\n",
    "                    x=2.0, y=0.45, ax=0.0, showarrow=True, arrowhead=2, arrowwidth=2.0)\n",
    "fig3.add_annotation(text=' ', x=3.0, y=0.45, ax=0.0, showarrow=True,\n",
    "                    arrowhead=2, arrowwidth=2.0, font={\"size\": 15})\n",
    "\n",
    "fig3.show()"
   ]
  },
  {
   "cell_type": "markdown",
   "id": "5430d8ed",
   "metadata": {},
   "source": [
    "##### Analyse\n",
    "\n",
    "###### Deskriptiv\n",
    "- Achsen:\n",
    "    - Die x-Achse zeigt die Oberkategorien der Projekte (sectors). Die Oberkategorien sind nach der Summe der Zielbetragswerte in den Feldern der Heatmap der jeweiligen Oberkategorie absteigend sortiert. \n",
    "    - Die y-Achse zeigt die Anzahl der am Projekt Beteiligten in fünfer Schritten (borrower_count). Je höher der Wert, desto höher ist die Anzahl der Beteiligten in den Projekten.\n",
    "\n",
    "- Farbskala: Die Farben repräsentieren die Höhe der Zielbeträge (Median der Zielbeträge in der Oberkategorie in USD) in verschiedenen Farbtönen von Gelb nach Rot. Dabei steht Rot für höhere Beträge und Gelb für niedrigere Beträge. Ein dunkelrotes Feld in einer bestimmten Zelle bedeutet, dass Projekte dieser Kategorie mit dieser Anzahl von Beteiligten tendenziell höhere Zielbeträge haben.\n",
    "\n",
    "\n",
    "###### Analytisch\n",
    "**Sollzustand**\n",
    "\n",
    "Mit zunehmender Personenanzahl sollte sich auch die Projektgröße (in Form des Zielbetrags) erhöhen. Dies ist vorteilhaft für unser Unternehmen, da damit größere Projekte entstehen, die mehr Provision erbringen und weniger Verwaltungsaufwand bedeuten. Gleichzeitig ist es für Geldgeber einfacher, wenn sie die Auswahl aus wenigen großen Projekte haben, als vielen kleinen. Eine hohe Anzahl an Beteiligten kann den Geldgebern auch mehr Verlässlichkeit und Sicherheit vermitteln.\n",
    "\n",
    "Die Aufteilung des Diagramms in 4 Quadranten erfolgt für Oberkategorien mit mehr/weniger als 20 beteiligten Personen pro Projekt. (horizontal: mehr/weniger als 20 Beteiligte, vertikal: Rechts stehen Oberkategorien mit weniger als 20 Beteiligten, Links davon die mit mehr als 20 Beteiligten)\n",
    "\n",
    "**unterer Bereich (weniger als 20 Beteiligte, unterer linker und rechter Quadrant)**\n",
    "\n",
    "Dieser Bereich entspricht unserem Sollzustand: nit steigender Personenanzahl nimmt auch der Median des Zielbetrags der Projekte zu.\n",
    "\n",
    "**Oberer linker Quadrant**\n",
    "\n",
    "In diesem Quadranten sind wieder die bereits als häufig identifizieren Oberkategorien Agriculture, Food, Retail vertreten. Es ist positiv, dass diese häufigen Oberkategorien auch eine hohe Spanne bei der Anzahl der am Projekt beteiligten Personen haben. Auffällig ist, dass Arts und Retail bei der Personenanzahl von 20-24 Personen geringere Zielwerte (4937 bzw. 4775 USB) haben, als bei Projekten mit 15-19 Beteiligten (5625 bzw. 5912 USD). In diesen Oberkategorien steckt noch Potenzial, große Projekte mit mehr Kreditvolumen zu initiieren.\n",
    "\n",
    "**Oberer rechter Quadrant**\n",
    "\n",
    "In diesem Quadranten sind alle Oberkategorien, die keine Projekte mit mehr als 20 Personen haben (es existieren keine eingefärbten Felder). In diesem Quadranten sind auch unsere fokussierten Oberkategorien (Health, Construction, Manufacturing, Entertainment, Wholesale). Dieser Quadrant bietet die Möglichkeit, die Menschen in diesem Land (Peru) zu größeren Projekten zu motivieren. Unser Unternehmen kann davon profitieren, indem sowohl die Anzahl der Projekte als auch die Zielbeträge erhöht werden, was zu höheren Provisionen führt. Gleichzeitig haben solche größeren Projekte den Vorteil, dass sie im Gegensatz zu vielen kleinen Projekten womöglich weniger Verwaltungsaufwand haben, als auch mehr Sicherheit suggerieren und auf mehr Investitionsbreitschaft bei den Geldgebern stoßen.\n",
    "\n",
    "**Limitationen**\n",
    "\n",
    "Der Graph gibt nicht die Häufigkeit oder Summe der Zielwerte in den Feldern wieder. Wir erkennen nur, dass es in dem oberen rechten Quadranten gar keine Projekte mit den entsprechenden Eigenschaften gibt. Wir erkennen aber nicht, ob es andere Felder gibt, die eine sehr geringe Häufigkeit bzw. Summe der Zielwerte haben und damit ebenfalls ausbaufähig sind."
   ]
  },
  {
   "cell_type": "markdown",
   "id": "6032f21a",
   "metadata": {},
   "source": [
    "## Dashboard"
   ]
  },
  {
   "cell_type": "code",
   "execution_count": null,
   "id": "f5c9d6f6",
   "metadata": {},
   "outputs": [],
   "source": [
    "# 1. App erstellen\n",
    "my_app = Dash(__name__)\n",
    "\n",
    "# 2. Layout erstellen\n",
    "# Überschrift\n",
    "my_app.layout = html.Div(children=[\n",
    "    html.H1(children=\"Sektoren je Land\", style={\"textAlign\": \"center\"}),\n",
    "    # Daten auswählen\n",
    "    dcc.Dropdown(\n",
    "        id=\"graph_drop\",\n",
    "        options=[{'label': country, 'value': country}\n",
    "                 for country in df['country'].unique()],\n",
    "        value=\"Afghanistan\",\n",
    "        style={\"width\": \"260px\"}\n",
    "    ),\n",
    "    # Grafik\n",
    "    dcc.Graph(id=\"theGraph\", figure={}, style={\n",
    "              'width': '800px', 'height': '600px'})\n",
    "])\n",
    "\n",
    "# 3. Callback erstellen\n",
    "\n",
    "\n",
    "@my_app.callback(\n",
    "    # 1. IMMER die Outputs\n",
    "    Output(component_id=\"theGraph\", component_property=\"figure\"),\n",
    "\n",
    "    # 2. IMMER die Inputs\n",
    "    Input(component_id=\"graph_drop\", component_property=\"value\"),\n",
    ")\n",
    "def update_graph(selected_country):\n",
    "    df_select = df[df[\"country\"] == selected_country]\n",
    "    gruppierte_daten = df_select.groupby(by=\"sector\",  observed=False).size().reset_index(name=\"count\")\n",
    "\n",
    "    donut_chart = px.pie(gruppierte_daten, values=\"count\", names=\"sector\", title=f\"Sektoren in {selected_country}\",\n",
    "                         labels={\"sector\": \"Sektor\", \"count\": \"Anzahl\"},\n",
    "                         hole=0.4,\n",
    "                         color=\"sector\",\n",
    "                         color_discrete_map={\n",
    "                             \"Agriculture\": \"#B4CF66\",\n",
    "                             \"Food\": \"#44803F\",\n",
    "                             \"Retail\": \"#AE65CF\",\n",
    "                             \"Other\": \"#8A818F\",\n",
    "                             \"Services\": \"#E0D424\",\n",
    "                             \"Personal Use\": \"#F2C305\",\n",
    "                             \"Housing\": \"#A67458\",\n",
    "                             \"Clothing\": \"#88D6D6\",\n",
    "                             \"Education\": \"#5C90B5\",\n",
    "                             \"Entertainment\": \"#F24405\",\n",
    "                             \"Wholesale\": \"#B87FE0\",\n",
    "                             \"Arts\": \"#00B3AD\",\n",
    "                             \"Transportation\": \"#575153\",\n",
    "                             \"Health\": \"#3FA9F5\",\n",
    "                             \"Construction\": \"#E06F24\",\n",
    "                             \"Manufacturing\": \"#8856D8\"\n",
    "                         }\n",
    "                         )\n",
    "\n",
    "    return donut_chart\n",
    "\n",
    "\n",
    "# 4. App starten\n",
    "my_app.run_server(jupyter_mode=\"external\", port=8106)"
   ]
  },
  {
   "cell_type": "markdown",
   "id": "4b31f66d",
   "metadata": {},
   "source": [
    "## Zusätzliche Analysen"
   ]
  },
  {
   "cell_type": "code",
   "execution_count": null,
   "id": "9025e80e",
   "metadata": {
    "scrolled": false
   },
   "outputs": [],
   "source": [
    "fig4 = px.bar(df_sector,\n",
    "              y='amount_of_projects',\n",
    "              x='sector',\n",
    "              title='Distribution of projects',\n",
    "              color='sector',\n",
    "              color_discrete_sequence=px.colors.qualitative.Set2\n",
    "              )\n",
    "fig4.show()"
   ]
  },
  {
   "cell_type": "markdown",
   "id": "847592c6",
   "metadata": {},
   "source": []
  },
  {
   "cell_type": "markdown",
   "id": "1a0ea8b0",
   "metadata": {},
   "source": [
    "**in bar chart weitere y achse einfuegen loan volume ?\n",
    "**donut zu explosion mit weiterem ranking der laender? oder Verteilung in Antragstellerzahl, volumen etc.\n",
    "\n",
    "\n",
    "\n",
    "\n",
    "'''\n",
    "df_sectors_sorted = df.groupby(by=\"sector\", as_index=False).agg( count = (\"loan_amount\", \"mean\") )\n",
    "df_sectors_sorted = df_sectors_sorted.sort_values(by=\"count\",ascending=False) \n",
    "sectors_sorted = df_sectors_sorted[\"sector\"].to_list()\n",
    "\n",
    "df_grouped2 = df.groupby(by=[\"sector\"],as_index=False ).agg( count_loan_amount=(\"loan_amount\",\"mean\") )\n",
    "fig = px.bar( df_grouped, x=\"sector\", category_orders={\"sector\":sectors_sorted}, y=\"count_loan_amount\")\n",
    "fig.show()\n",
    "df_sectors_sorted\n",
    "'''\n",
    "\n",
    "weiterer plot fuer die finanzielle hoehe der loans pro category"
   ]
  },
  {
   "cell_type": "markdown",
   "id": "28810e61",
   "metadata": {},
   "source": [
    "### KPI \n",
    "\n",
    "**funding rate"
   ]
  },
  {
   "cell_type": "code",
   "execution_count": null,
   "id": "5a53b206",
   "metadata": {},
   "outputs": [],
   "source": [
    "fig1 = px.pie(df_sector, \n",
    "              values='amount_of_projects', \n",
    "              names='sector', \n",
    "              title='Distribution of projects',\n",
    "              color_discrete_sequence=px.colors.qualitative.Set2\n",
    "             )\n",
    "fig1.update_traces(textposition='inside', textinfo='label+percent')\n",
    "fig1.show()"
   ]
  },
  {
   "cell_type": "code",
   "execution_count": null,
   "id": "6edcba81",
   "metadata": {},
   "outputs": [],
   "source": [
    "df.sort_values(by='funding_rate', ascending=False).head(10)"
   ]
  },
  {
   "cell_type": "code",
   "execution_count": null,
   "id": "d8fca45c",
   "metadata": {
    "scrolled": true
   },
   "outputs": [],
   "source": [
    "# funding rate bins - welche sectors?\n",
    "\n",
    "df['funding_rate_bin'] = pd.cut(df['funding_rate'], bins=3, labels=['Low', 'Medium', 'High'])\n",
    "grouped = df.groupby(['funding_rate_bin', 'sector']).size().reset_index(name='count')\n",
    "top_categories = grouped.groupby('funding_rate_bin').apply(lambda x: x.nlargest(5, 'count')).reset_index(drop=True)\n",
    "print(top_categories)"
   ]
  },
  {
   "cell_type": "code",
   "execution_count": null,
   "id": "423fb817",
   "metadata": {
    "scrolled": false
   },
   "outputs": [],
   "source": [
    "df_grouped2 = df.groupby(by=[\"sector\"],as_index=False ).agg( sum_loan_amount=(\"loan_amount\",\"sum\") ).sort_values(by=\"sum_loan_amount\", ascending=False)\n",
    "fig3 = px.bar(df_grouped2, \n",
    "             x=\"sector\",\n",
    "             y=\"sum_loan_amount\",\n",
    "             color='sector',\n",
    "             color_discrete_sequence=px.colors.qualitative.Set2\n",
    "            )\n",
    "fig3.show()\n",
    "df_grouped2.reset_index()"
   ]
  }
 ],
 "metadata": {
  "kernelspec": {
   "display_name": "Python 3 (ipykernel)",
   "language": "python",
   "name": "python3"
  },
  "language_info": {
   "codemirror_mode": {
    "name": "ipython",
    "version": 3
   },
   "file_extension": ".py",
   "mimetype": "text/x-python",
   "name": "python",
   "nbconvert_exporter": "python",
   "pygments_lexer": "ipython3",
   "version": "3.11.5"
  },
  "toc": {
   "base_numbering": 1,
   "nav_menu": {},
   "number_sections": true,
   "sideBar": true,
   "skip_h1_title": false,
   "title_cell": "Table of Contents",
   "title_sidebar": "Contents",
   "toc_cell": false,
   "toc_position": {},
   "toc_section_display": true,
   "toc_window_display": false
  },
  "varInspector": {
   "cols": {
    "lenName": 16,
    "lenType": 16,
    "lenVar": 40
   },
   "kernels_config": {
    "python": {
     "delete_cmd_postfix": "",
     "delete_cmd_prefix": "del ",
     "library": "var_list.py",
     "varRefreshCmd": "print(var_dic_list())"
    },
    "r": {
     "delete_cmd_postfix": ") ",
     "delete_cmd_prefix": "rm(",
     "library": "var_list.r",
     "varRefreshCmd": "cat(var_dic_list()) "
    }
   },
   "types_to_exclude": [
    "module",
    "function",
    "builtin_function_or_method",
    "instance",
    "_Feature"
   ],
   "window_display": false
  }
 },
 "nbformat": 4,
 "nbformat_minor": 5
}
